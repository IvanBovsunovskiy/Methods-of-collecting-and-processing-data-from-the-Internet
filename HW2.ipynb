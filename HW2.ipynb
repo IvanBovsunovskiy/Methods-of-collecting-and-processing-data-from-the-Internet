{
  "nbformat": 4,
  "nbformat_minor": 0,
  "metadata": {
    "colab": {
      "name": "HW2.ipynb",
      "provenance": [],
      "collapsed_sections": [],
      "authorship_tag": "ABX9TyOt0CKTDtD5A7+1/AGbUhAw",
      "include_colab_link": true
    },
    "kernelspec": {
      "name": "python3",
      "display_name": "Python 3"
    },
    "language_info": {
      "name": "python"
    }
  },
  "cells": [
    {
      "cell_type": "markdown",
      "metadata": {
        "id": "view-in-github",
        "colab_type": "text"
      },
      "source": [
        "<a href=\"https://colab.research.google.com/github/IvanBovsunovskiy/Methods-of-collecting-and-processing-data-from-the-Internet/blob/hw2/HW2.ipynb\" target=\"_parent\"><img src=\"https://colab.research.google.com/assets/colab-badge.svg\" alt=\"Open In Colab\"/></a>"
      ]
    },
    {
      "cell_type": "code",
      "metadata": {
        "id": "qje3Iguu-D9Y"
      },
      "source": [
        "from math import factorial, exp\n",
        "\n",
        "def combinations(n, k):\n",
        "    return int(factorial(n) / (factorial(k) * factorial(n - k)))"
      ],
      "execution_count": 9,
      "outputs": []
    },
    {
      "cell_type": "markdown",
      "metadata": {
        "id": "2O1uLxnj4Prd"
      },
      "source": [
        "##__Урок 2. Дискретные случайные величины. Закон распределения вероятностей. Биномиальный закон распределения. Распределение Пуассона__\n",
        "\n",
        "1. Вероятность того, что стрелок попадет в мишень, выстрелив один раз, равна 0.8. Стрелок выстрелил 100 раз. Найдите вероятность того, что стрелок попадет в цель ровно 85 раз.\n",
        "2. Вероятность того, что лампочка перегорит в течение первого дня эксплуатации, равна 0.0004. В жилом комплексе после ремонта в один день включили 5000 новых лампочек. Какова вероятность, что ни одна из них не перегорит в первый день? Какова вероятность, что перегорят ровно две?\n",
        "3. Монету подбросили 144 раза. Какова вероятность, что орел выпадет ровно 70 раз?\n",
        "4. В первом ящике находится 10 мячей, из которых 7 - белые. Во втором ящике - 11 мячей, из которых 9 белых. Из каждого ящика вытаскивают случайным образом по два мяча. Какова вероятность того, что все мячи белые? Какова вероятность того, что ровно два мяча белые? Какова вероятность того, что хотя бы один мяч белый?"
      ]
    },
    {
      "cell_type": "markdown",
      "metadata": {
        "id": "l_3xfAYQ4YgJ"
      },
      "source": [
        "__1. Вероятность того, что стрелок попадет в мишень, выстрелив один раз, равна 0.8. Стрелок выстрелил 100 раз. Найдите вероятность того, что стрелок попадет в цель ровно 85 раз.__"
      ]
    },
    {
      "cell_type": "markdown",
      "metadata": {
        "id": "RxO9_5YiX1Lc"
      },
      "source": [
        "Так как попадания в мишень фиксирована и не зависит ни от чего, то вероятность того что стрелок попадет в мишень 85 раз из 100 по формуле Бернулли будет: $P^{85}_{100} = C^k_n \\cdot p^k\\cdot \\left(1-p\\right)^{n-k} = C^{85}_{100} \\cdot 0.8^{85}\\cdot \\left(1-0.8\\right)^{100-85}$"
      ]
    },
    {
      "cell_type": "code",
      "metadata": {
        "colab": {
          "base_uri": "https://localhost:8080/"
        },
        "id": "ad7uEIc47thP",
        "outputId": "0d330294-fd43-4eee-cf2d-603ee4ce18c3"
      },
      "source": [
        "P = combinations(100,85)*0.8**85*(1-0.8)**(100-85)\n",
        "P"
      ],
      "execution_count": 6,
      "outputs": [
        {
          "output_type": "execute_result",
          "data": {
            "text/plain": [
              "0.048061793700746355"
            ]
          },
          "metadata": {
            "tags": []
          },
          "execution_count": 6
        }
      ]
    },
    {
      "cell_type": "markdown",
      "metadata": {
        "id": "_PS4qcdBX9zl"
      },
      "source": [
        "__2. Вероятность того, что лампочка перегорит в течение первого дня эксплуатации, равна 0.0004. В жилом комплексе после ремонта в один день включили 5000 новых лампочек. Какова вероятность, что ни одна из них не перегорит в первый день? Какова вероятность, что перегорят ровно две?__"
      ]
    },
    {
      "cell_type": "markdown",
      "metadata": {
        "id": "xuF4HCUVZA9D"
      },
      "source": [
        "Так как нажатие перегорание лампочки в первый день малая величина, то по распределению Пуассона вероятность того что не перегорит ни одна лампочка из 5000 будет:\n",
        "$$P_m \\approx \\frac{\\lambda^m}{m!}e^{-\\lambda} = \\frac{(n*p)^0}{0!}e^{-n*p}$$"
      ]
    },
    {
      "cell_type": "code",
      "metadata": {
        "colab": {
          "base_uri": "https://localhost:8080/"
        },
        "id": "pbLWPQ0wYAwU",
        "outputId": "68efed1d-782c-48da-c009-8df304503e0b"
      },
      "source": [
        "n = 5000\n",
        "m = 0\n",
        "p = 0.0004\n",
        "P = poisson_distrib(n, m, p)\n",
        "P"
      ],
      "execution_count": 30,
      "outputs": [
        {
          "output_type": "execute_result",
          "data": {
            "text/plain": [
              "0.1353352832366127"
            ]
          },
          "metadata": {
            "tags": []
          },
          "execution_count": 30
        }
      ]
    },
    {
      "cell_type": "markdown",
      "metadata": {
        "id": "rHWWL0akgGOI"
      },
      "source": [
        "__3. Монету подбросили 144 раза. Какова вероятность, что орел выпадет ровно 70 раз?__"
      ]
    },
    {
      "cell_type": "markdown",
      "metadata": {
        "id": "ztn9jC-Ega-2"
      },
      "source": [
        "Примем что монета абсолютно симметрична и центр масс расположен в геометрическом центре монеты, плюс монета абсолютно тонкая - не может стоять на ребре, т.е. вероятность выпадения орла и решки по 0.5 в любом испытании из 144. Тогда вероятность 70 кратного выпадения орла в 144 испытаниях по формуле Бернулли будет:\n",
        " $$P^{70}_{144} = C^k_n \\cdot p^k\\cdot \\left(1-p\\right)^{n-k} = C^{70}_{144} \\cdot 0.5^{70}\\cdot \\left(1-0.5\\right)^{144-70}$$"
      ]
    },
    {
      "cell_type": "code",
      "metadata": {
        "colab": {
          "base_uri": "https://localhost:8080/"
        },
        "id": "8vgkzfDGgLm5",
        "outputId": "6ebde4bd-11aa-4d41-a430-63fa4ec8790c"
      },
      "source": [
        "P = combinations(144,70)*0.5**70*(1-0.5)**(144-70)\n",
        "P"
      ],
      "execution_count": 41,
      "outputs": [
        {
          "output_type": "execute_result",
          "data": {
            "text/plain": [
              "0.06281178035144776"
            ]
          },
          "metadata": {
            "tags": []
          },
          "execution_count": 41
        }
      ]
    },
    {
      "cell_type": "markdown",
      "metadata": {
        "id": "SneZvgxAgJFw"
      },
      "source": [
        "__4. В первом ящике находится 10 мячей, из которых 7 - белые. Во втором ящике - 11 мячей, из которых 9 белых. Из каждого ящика вытаскивают случайным образом по два мяча. Какова вероятность того, что все мячи белые? Какова вероятность того, что ровно два мяча белые? Какова вероятность того, что хотя бы один мяч белый?__"
      ]
    },
    {
      "cell_type": "markdown",
      "metadata": {
        "id": "LpL5nZ22l6gS"
      },
      "source": [
        "Вероятность выбора по 2 белых мяча из каждого ящика будет равна произведению отношений количества комбинаций 2 из 7х(9 для второго ящика) к полному количеству комбинаций выбрать 2 мяча из каждого ящика по отдельности, т.е. произведение вероятностей выбрать первые 2 белых из первого ящика и 2 белых из второго ящика:\n",
        "$$P =  \\frac{C^{2}_{7}}{C^{2}_{10}} \\cdot \\frac{C^{2}_{9}}{C^{2}_{11}}$$"
      ]
    },
    {
      "cell_type": "code",
      "metadata": {
        "colab": {
          "base_uri": "https://localhost:8080/"
        },
        "id": "UxXGvfR7krjX",
        "outputId": "a7a9dca8-f0ff-4351-a296-e4962caba1fa"
      },
      "source": [
        "P = combinations(7,2)/combinations(10,2) * combinations(9,2)/combinations(11,2)\n",
        "P"
      ],
      "execution_count": 42,
      "outputs": [
        {
          "output_type": "execute_result",
          "data": {
            "text/plain": [
              "0.3054545454545455"
            ]
          },
          "metadata": {
            "tags": []
          },
          "execution_count": 42
        }
      ]
    },
    {
      "cell_type": "markdown",
      "metadata": {
        "id": "ruwqEN4A9uUT"
      },
      "source": [
        "Вероятность выбора по 2 белых мяча из 4 по 2 из каждого ящика будет равна сумме вероятностей вытащить 2 белых мяча из первого ящика и 0 белых из 2го ящика, 1 белый мяч из первого ящика и 1 белый из 2го ящика, и 0 белых из первого ящика и 2 белых мяча из 2го ящика:\n",
        "$$P =  \\frac{C^{2}_{7}}{C^{2}_{10}} \\cdot \\frac{C^{2}_{2}}{C^{2}_{11}} + \\frac{C^{1}_{7}}{C^{1}_{10}} \\cdot \\frac{C^{1}_{9}}{C^{1}_{11}} + \\frac{C^{2}_{3}}{C^{2}_{10}} \\cdot \\frac{C^{2}_{9}}{C^{2}_{11}}$$"
      ]
    },
    {
      "cell_type": "code",
      "metadata": {
        "colab": {
          "base_uri": "https://localhost:8080/"
        },
        "id": "WpM087a0kvyI",
        "outputId": "82f1682c-c3a2-4ffa-fd00-b3ea8ad753a4"
      },
      "source": [
        "P = combinations(7,2)/combinations(10,2) * combinations(2,2)/combinations(11,2) + combinations(7,1)/combinations(10,1) * combinations(9,1)/combinations(11,1) + combinations(3,2)/combinations(10,2) * combinations(9,2)/combinations(11,2)\n",
        "P"
      ],
      "execution_count": 45,
      "outputs": [
        {
          "output_type": "execute_result",
          "data": {
            "text/plain": [
              "0.6248484848484849"
            ]
          },
          "metadata": {
            "tags": []
          },
          "execution_count": 45
        }
      ]
    },
    {
      "cell_type": "markdown",
      "metadata": {
        "id": "FTRhxTULApHU"
      },
      "source": [
        "Вероятность выбора хотя бы 1 белого будет равна 1 минус вероятность вытащить 2 черных мяча из первого ящика и 2 черных мяча из 2го ящика, так как во всех остальных случаях по вытаскиванию черных мячей будет вытащен как минимум 1 белый мяч:\n",
        "$$P = 1 - \\frac{C^{2}_{3}}{C^{2}_{10}} \\cdot \\frac{C^{2}_{2}}{C^{2}_{11}}$$"
      ]
    },
    {
      "cell_type": "code",
      "metadata": {
        "colab": {
          "base_uri": "https://localhost:8080/"
        },
        "id": "bTkyUfXCCcRm",
        "outputId": "878c4ce2-b16b-4cfb-cdbe-669f70f926c7"
      },
      "source": [
        "P = 1 - combinations(3,2)/combinations(10,2) * combinations(2,2)/combinations(11,2)\n",
        "P"
      ],
      "execution_count": 46,
      "outputs": [
        {
          "output_type": "execute_result",
          "data": {
            "text/plain": [
              "0.9987878787878788"
            ]
          },
          "metadata": {
            "tags": []
          },
          "execution_count": 46
        }
      ]
    }
  ]
}